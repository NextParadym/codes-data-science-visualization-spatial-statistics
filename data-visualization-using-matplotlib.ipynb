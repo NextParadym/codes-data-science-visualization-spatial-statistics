{
 "cells": [
  {
   "cell_type": "markdown",
   "metadata": {},
   "source": [
    "# Data Visualization with Matplotlib  \n",
    "## A powerful library for visualizing data sets in python used as Matplotlib.pyplot\n",
    "\n",
    "## Matplotlib.pyplot is a collection of command style functions that make matplotlib work  like MATLAB.\n",
    "\n",
    "\n"
   ]
  },
  {
   "cell_type": "code",
   "execution_count": null,
   "metadata": {},
   "outputs": [],
   "source": [
    "\n",
    "# importing the necessary dependencies for Pandas\n",
    "import pandas as pd\n",
    "import numpy as np\n",
    "import matplotlib.pyplot as plt\n",
    "%matplotlib inline "
   ]
  },
  {
   "cell_type": "code",
   "execution_count": null,
   "metadata": {},
   "outputs": [],
   "source": [
    "\n",
    "df.plot.bar()\n",
    "plt.title ('Population of Selected 10 Countries for 1961, 2000, and 2015')\n",
    "plt.xlabel('Selected Conuntries', fontsize=11) \n",
    "plt.ylabel(\"'Population ('0000')\", fontsize=11) \n",
    "plt.rc('xtick', labelsize=12) \n",
    "plt.legend(loc='upper center')\n",
    "plt.show()\n",
    "#fig.savefig('test.jpg')"
   ]
  }
 ],
 "metadata": {
  "celltoolbar": "Slideshow",
  "kernelspec": {
   "display_name": "Python 3",
   "language": "python",
   "name": "python3"
  },
  "language_info": {
   "codemirror_mode": {
    "name": "ipython",
    "version": 3
   },
   "file_extension": ".py",
   "mimetype": "text/x-python",
   "name": "python",
   "nbconvert_exporter": "python",
   "pygments_lexer": "ipython3",
   "version": "3.7.6"
  }
 },
 "nbformat": 4,
 "nbformat_minor": 4
}
