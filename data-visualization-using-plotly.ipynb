{
 "cells": [
  {
   "cell_type": "markdown",
   "metadata": {},
   "source": [
    "\n",
    "## - Data Visualization with Plotly\n"
   ]
  },
  {
   "cell_type": "markdown",
   "metadata": {
    "slideshow": {
     "slide_type": "slide"
    }
   },
   "source": [
    "# Data Visualization with Plotly\n",
    "\n",
    "\n",
    "# Plotly (not the company) is the open source library for data visualization focused on interactive visualization as .html files\n",
    "\n",
    "-It has library for Javascript, React, R, & Python\n",
    "-the most popular version is the python library.\n",
    "-check www.plot.ly/python.com for plotly documentation where you will find two main vital information: \n",
    "    -examples of charts with plotly and \n",
    "    -full reference: where you will have opportunity of building your future data visualization work-flow with reference information\n",
    "-While users can interact e.g zoom, hover, plotly can not be connected to changes hence dash.\n",
    "\n",
    "\n",
    " \n",
    "\n",
    "\n",
    "\n",
    " "
   ]
  },
  {
   "cell_type": "code",
   "execution_count": null,
   "metadata": {},
   "outputs": [],
   "source": [
    "# importing the necessary dependencies\n",
    "\n",
    "import pandas as pd\n",
    "import plotly.offline as pyo\n",
    "import plotly.graph_objs as go\n",
    "from plotly.offline import download_plotlyjs, init_notebook_mode, plot,iplot\n",
    "init_notebook_mode(connected = True)\n",
    "\n",
    "\n",
    "#loading data\n",
    "\n",
    "df=pd.read_csv(\"/Users/lawrence/Data2018WinterOlympics.csv\")\n",
    "\n",
    "#step 1 indicate the data parameters for the plot\n",
    "\n",
    "data = [go.Bar(\n",
    "    x=df['NOC'],  # NOC stands for National Olympic Committee\n",
    "    y=df['Total']\n",
    ")]\n",
    "\n",
    "#step 2 State the Plot Layout\n",
    "\n",
    "layout = go.Layout(\n",
    "    title='2018 Winter Olympic Medals by Country',title_x = 0.5,\n",
    "xaxis = dict(title = 'Countries'), # x-axis label\n",
    "    yaxis = dict(title = 'Total Number of Medals') # y-axis label      \n",
    "        \n",
    " )\n",
    "\n",
    "#step 3 State the Figure\n",
    "\n",
    "fig = go.Figure(data=data, layout=layout)\n",
    "\n",
    "#step 4 Display the Figure with pyo\n",
    "\n",
    "pyo.iplot(fig, filename='bar1.html')"
   ]
  },
  {
   "cell_type": "code",
   "execution_count": null,
   "metadata": {
    "slideshow": {
     "slide_type": "slide"
    }
   },
   "outputs": [],
   "source": [
    "\n",
    "# importing the necessary dependencies\n",
    "\n",
    "import plotly.offline as pyo\n",
    "import plotly.graph_objs as go\n",
    "from plotly.offline import download_plotlyjs, init_notebook_mode, plot,iplot\n",
    "init_notebook_mode(connected = True)\n"
   ]
  },
  {
   "cell_type": "code",
   "execution_count": null,
   "metadata": {
    "slideshow": {
     "slide_type": "slide"
    }
   },
   "outputs": [],
   "source": [
    "# A simple Bar chart with plotly \n",
    "\n",
    "fig = go.Figure(data=go.Bar(y=[2, 3, 1]))\n",
    "\n",
    "pyo.iplot(fig)\n",
    "\n",
    "\n"
   ]
  },
  {
   "cell_type": "code",
   "execution_count": null,
   "metadata": {
    "slideshow": {
     "slide_type": "slide"
    }
   },
   "outputs": [],
   "source": [
    "#A Simple Bar chart with Plotly and use of CSV data\n",
    "\n",
    "# Loading data\n",
    "\n",
    "df=pd.read_csv(\"/Users/lawrence/Data2018WinterOlympics.csv\")\n",
    "\n",
    "#step 1 indicate the data parameters for the plot\n",
    "data = [go.Bar(\n",
    "    x=df['NOC'],  # NOC stands for National Olympic Committee\n",
    "    y=df['Total']\n",
    ")]\n",
    "\n",
    "#step 2 State the Plot Layout\n",
    "layout = go.Layout(\n",
    "    title='2018 Winter Olympic Medals by Country',\n",
    "xaxis = dict(title = 'Countries'), # x-axis label\n",
    "    yaxis = dict(title = 'Total Number of Medals') # y-axis label      \n",
    "        \n",
    " )\n",
    "\n",
    "#step 3 State the Figure\n",
    "fig = go.Figure(data=data, layout=layout)\n",
    "\n",
    "#step 4 Display the Figure with pyo\n",
    "pyo.iplot(fig, filename='bar1.html')"
   ]
  },
  {
   "cell_type": "code",
   "execution_count": null,
   "metadata": {
    "slideshow": {
     "slide_type": "slide"
    }
   },
   "outputs": [],
   "source": [
    "# Multple  Barchart with Plotly\n",
    "\n",
    "# loading data\n",
    "df=pd.read_csv(\"/Users/lawrence/Data2018WinterOlympics.csv\")\n",
    "\n",
    "#step 1 indicate the data parameters for the plot or Traces for multiple plots\n",
    "\n",
    "trace1 = go.Bar(\n",
    "    x=df['NOC'], \n",
    "    y=df['Gold'],\n",
    " name = 'Gold', \n",
    "    marker=dict(color='#FFD700')\n",
    ")\n",
    "  \n",
    "trace2 = go.Bar(\n",
    "    x=df['NOC'], \n",
    "    y=df['Silver'],\n",
    "name = 'Silver', \n",
    "    marker=dict(color='#9EA0A1') \n",
    ")\n",
    "\n",
    "trace3 = go.Bar(\n",
    "    x=df['NOC'],\n",
    "    y=df['Bronze'],\n",
    "name = 'Bronze', \n",
    "    marker=dict(color='#CD7F32')\n",
    ")\n",
    "\n",
    "data = [trace1, trace2, trace3]\n",
    "\n",
    "#step 2 State the Plot Layout\n",
    "\n",
    "layout =go.Layout (\n",
    "    title = 'Bar Chart of Medals', barmode='stack', title_x = 0.5, # barmode=stack stacks the bars\n",
    "    xaxis = dict(title = 'Countries'), # x-axis label\n",
    "    yaxis = dict(title = 'Total Number of Medals') # y-axis label      \n",
    "        )\n",
    " \n",
    "\n",
    "#step 3 State the Figure\n",
    "fig = go.Figure(data=data, layout=layout)\n",
    "\n",
    "#step 4 Display the Figure with pyo\n",
    "pyo.iplot(fig)\n"
   ]
  },
  {
   "cell_type": "code",
   "execution_count": null,
   "metadata": {
    "slideshow": {
     "slide_type": "slide"
    }
   },
   "outputs": [],
   "source": [
    "# Scatter Plot\n",
    "\n",
    "# importing the necessary dependencies\n",
    "\n",
    "import pandas as pd\n",
    "import numpy as np\n",
    "import matplotlib.pyplot as plt\n",
    "\n",
    "# Create Data\n",
    "np.random.seed(42)\n",
    "\n",
    "x_random = np.random.randint(1,101,100)\n",
    "\n",
    "y_random= np.random.randint(1,101,100)\n",
    "\n",
    "#step 1 indicate the data parameters for the plot and create Traces for multiple \n",
    "data= [go.Scatter(x=x_random,\n",
    "                  y=y_random,\n",
    "                  mode='markers',\n",
    "                  marker=dict(\n",
    "                  size=14,\n",
    "                  color= 'rgb(51,204,153)',\n",
    "                  symbol ='pentagon',\n",
    "                  line= dict(width =2,\n",
    "                        )\n",
    "                                    ))]\n",
    "#step 2 State the Plot Layout\n",
    "layout = go.Layout(\n",
    "    title = 'Random Data Scatterplot', title_x=0.5, # Graph title\n",
    "    xaxis = dict(title = 'Some random x-values'), # x-axis label\n",
    "    yaxis = dict(title = 'Some random y-values'), # y-axis label\n",
    "    hovermode ='closest' # handles multiple points landing on the same vertical\n",
    ")\n",
    "#step 3 State the Figure\n",
    "fig = go.Figure(data=data, layout=layout)\n",
    "\n",
    "#step 4 Display the Figure with pyo\n",
    "pyo.offline.iplot(fig, filename='scatter4.html')\n",
    "\n",
    "\n",
    "\n"
   ]
  },
  {
   "cell_type": "code",
   "execution_count": null,
   "metadata": {
    "slideshow": {
     "slide_type": "slide"
    }
   },
   "outputs": [],
   "source": [
    "# line Graph\n",
    "\n",
    "\n",
    "#Data\n",
    "np.random.seed(56)\n",
    "x_values = np.linspace(0, 1, 100) # 100 evenly spaced values\n",
    "y_values = np.random.randn(100)   # 100 random values\n",
    "\n",
    "#step 1 indicate the data parameters for the plot and create Traces for multiple \n",
    "trace0 = go.Scatter(\n",
    "    x = x_values,\n",
    "    y = y_values+5,\n",
    "    mode = 'markers',\n",
    "    name = 'markers'\n",
    ")\n",
    "trace1 = go.Scatter(\n",
    "    x = x_values,\n",
    "    y = y_values,\n",
    "    mode = 'lines+markers',\n",
    "    name = 'lines+markers'\n",
    ")\n",
    "trace2 = go.Scatter(\n",
    "    x = x_values,\n",
    "    y = y_values-5,\n",
    "    mode = 'lines',\n",
    "    name = 'lines'\n",
    ")\n",
    "data = [trace0, trace1, trace2]  # assign traces to data\n",
    "\n",
    "#step 2 State the Plot Layout\n",
    "layout = go.Layout(\n",
    "    title =        'Random Data Scatterplot', title_x=0.5, # Graph title\n",
    "    xaxis = dict(title = 'Some random x-values'), # x-axis label\n",
    "    yaxis = dict(title = 'Some random y-values'), # y-axis label\n",
    "    \n",
    ")\n",
    "\n",
    "#step 3 State the Figure\n",
    "fig = go.Figure(data=data,layout=layout)\n",
    "\n",
    "#step 4 Display the Figure with pyo\n",
    "pyo.offline.iplot(fig, filename='line1.html')\n",
    "\n",
    "\n"
   ]
  },
  {
   "cell_type": "code",
   "execution_count": null,
   "metadata": {
    "slideshow": {
     "slide_type": "slide"
    }
   },
   "outputs": [],
   "source": [
    "# Comparon of Matplotlib with Plotly\n",
    "\n",
    "#Plotly\n",
    "\n",
    "# create data and produce a line chart:\n",
    "df = pd.DataFrame(np.random.randn(100,4),columns='A B C D'.split())\n",
    "\n",
    "#step 1 indicate the data parameters for the plot and create Traces for multiple \n",
    "trace0 = go.Scatter(\n",
    "    x= df.index,\n",
    "    y = df['A'],\n",
    "  \n",
    "    mode = 'lines+markers',\n",
    "    name = 'A'\n",
    ")\n",
    "trace1 = go.Scatter(\n",
    "    x= df.index,\n",
    "    y = df['B'],\n",
    "    mode = 'lines+markers',\n",
    "    name = 'B'\n",
    ")\n",
    "\n",
    "trace2 = go.Scatter(\n",
    "    x= df.index,\n",
    "    y = df['C'],\n",
    "    mode = 'lines+markers',\n",
    "    name = 'C'\n",
    ")\n",
    "\n",
    "trace3 = go.Scatter(\n",
    "    x= df.index,\n",
    "    y = df['D'],\n",
    "    mode = 'lines+markers',\n",
    "    name = 'D'\n",
    ")\n",
    "\n",
    "#step 2 State the Plot Layout\n",
    "data = [trace0, trace1,trace2,trace3]  # assign traces to data\n",
    "layout = go.Layout(\n",
    "    title = 'Line chart showing three different modes',title_x=0.5,\n",
    "    xaxis = dict(title = 'Some random x-values'), # x-axis label\n",
    "    yaxis = dict(title = 'Some random y-values'), # y-axis label\n",
    "    \n",
    ")\n",
    "\n",
    "#step 3 State the Figure\n",
    "fig = go.Figure(data=data,layout=layout)\n",
    "\n",
    "#step 4 Display the Figure with pyo\n",
    "pyo.offline.iplot(fig, filename='line1.html')\n",
    "\n",
    "\n",
    "# Matplotlib \n",
    "\n",
    "# create data and produce a line chart:\n",
    "df = pd.DataFrame(np.random.randn(100,4),columns='A B C D'.split())\n",
    "df.plot()\n",
    "plt.title ('Line chart showing three different modes')\n",
    "plt.xlabel('Some random x-values') \n",
    "plt.ylabel('Some random y-values') \n",
    "plt.show()\n"
   ]
  }
 ],
 "metadata": {
  "celltoolbar": "Slideshow",
  "kernelspec": {
   "display_name": "Python 3",
   "language": "python",
   "name": "python3"
  },
  "language_info": {
   "codemirror_mode": {
    "name": "ipython",
    "version": 3
   },
   "file_extension": ".py",
   "mimetype": "text/x-python",
   "name": "python",
   "nbconvert_exporter": "python",
   "pygments_lexer": "ipython3",
   "version": "3.7.6"
  }
 },
 "nbformat": 4,
 "nbformat_minor": 4
}
