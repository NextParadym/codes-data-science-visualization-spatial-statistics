{
 "cells": [
  {
   "cell_type": "markdown",
   "metadata": {
    "slideshow": {
     "slide_type": "slide"
    }
   },
   "source": []
  },
  {
   "cell_type": "markdown",
   "metadata": {
    "slideshow": {
     "slide_type": "slide"
    }
   },
   "source": [
    "\n",
    "\n",
    "## - Data Visualization with Dash\n"
   ]
  },
  {
   "cell_type": "markdown",
   "metadata": {},
   "source": [
    "# Dash\n",
    "\n",
    "\n",
    "# Dash is a an interactive data visualization library like like bokeh and allows to create full dashboard with multiple components.\n",
    "\n",
    "-Because of the need to modify data while they interact, and have components for real time updates, dash is very useful. \n",
    "\n",
    "-Fully web app that can be deployed as a dashboard.\n",
    "\n",
    "-It opens URL instead of .html file like plotly\n",
    "\n",
    " -Dash has two main components : the layout and the interactive component."
   ]
  },
  {
   "cell_type": "code",
   "execution_count": null,
   "metadata": {
    "slideshow": {
     "slide_type": "slide"
    }
   },
   "outputs": [],
   "source": [
    "# Dash example of a simple HTML page that displays a bar chart.\n",
    "\n",
    "#import necessary depndencies for Dash\n",
    "\n",
    "import numpy as np\n",
    "import dash\n",
    "import dash_core_components as dcc\n",
    "import dash_html_components as html\n",
    "import plotly.graph_objs as go\n",
    " \n",
    "#create a simple HTML page that displays a bar chart.\n",
    "\n",
    "app = dash.Dash()\n",
    "\n",
    "app.layout = html.Div(children=[\n",
    "    html.H1(children='Hello Dash'),\n",
    "    html.Div(children='Dash: A web application framework for Python.'),\n",
    "\n",
    "    dcc.Graph(\n",
    "        id='example-graph',\n",
    "        figure={\n",
    "            'data': [\n",
    "                {'x': [1, 2, 3], 'y': [4, 1, 2], 'type': 'bar', 'name': 'SF'},\n",
    "                {'x': [1, 2, 3], 'y': [2, 4, 5], 'type': 'bar', 'name': u'Montréal'},\n",
    "            ],\n",
    "            'layout': {\n",
    "                'title': 'Dash Data Visualization'\n",
    "            }\n",
    "        }\n",
    "    )\n",
    "])\n",
    "\n",
    "if __name__ == '__main__':\n",
    "    app.run_server()\n",
    "    \n",
    "    \n",
    "\n"
   ]
  },
  {
   "cell_type": "code",
   "execution_count": null,
   "metadata": {
    "slideshow": {
     "slide_type": "slide"
    }
   },
   "outputs": [],
   "source": [
    "\n",
    "#import necessary depndencies for Dash\n",
    "\n",
    "import numpy as np\n",
    "import dash\n",
    "import dash_core_components as dcc\n",
    "import dash_html_components as html\n",
    "import plotly.graph_objs as go\n",
    "\n",
    "# create a simple HTML page that inserts a scatter plot into a Dasboard .\n",
    "\n",
    "app = dash.Dash()\n",
    "\n",
    "np.random.seed(42)\n",
    "random_x = np.random.randint(1,101,100)\n",
    "random_y = np.random.randint(1,101,100)\n",
    "\n",
    "app.layout = html.Div([\n",
    "    dcc.Graph(\n",
    "        id='scatter3',\n",
    "        figure={\n",
    "            'data': [\n",
    "                go.Scatter(\n",
    "                    x = random_x,\n",
    "                    y = random_y,\n",
    "                    mode = 'markers',\n",
    "                    marker = {\n",
    "                        'size': 12,\n",
    "                        'color': 'rgb(51,204,153)',\n",
    "                        'symbol': 'pentagon',\n",
    "                        'line': {'width': 2}\n",
    "                        }\n",
    "                )\n",
    "            ],\n",
    "            'layout': go.Layout(\n",
    "                title = 'Random Data Scatterplot',\n",
    "                xaxis = {'title': 'Some random x-values'},\n",
    "                yaxis = {'title': 'Some random y-values'},\n",
    "                hovermode='closest'\n",
    "            )\n",
    "        }\n",
    "    )\n",
    "])\n",
    "\n",
    "if __name__ == '__main__':\n",
    "    app.run_server()"
   ]
  }
 ],
 "metadata": {
  "celltoolbar": "Slideshow",
  "kernelspec": {
   "display_name": "Python 3",
   "language": "python",
   "name": "python3"
  },
  "language_info": {
   "codemirror_mode": {
    "name": "ipython",
    "version": 3
   },
   "file_extension": ".py",
   "mimetype": "text/x-python",
   "name": "python",
   "nbconvert_exporter": "python",
   "pygments_lexer": "ipython3",
   "version": "3.7.6"
  }
 },
 "nbformat": 4,
 "nbformat_minor": 4
}
