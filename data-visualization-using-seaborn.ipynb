{
 "cells": [
  {
   "cell_type": "markdown",
   "metadata": {
    "slideshow": {
     "slide_type": "slide"
    }
   },
   "source": [
    "# Data Visualization with Seaborn \n",
    "\n",
    "## The seaborn package was developed based on the Matplotlib library. It is used to create more attractive and informative statistical graphics.\n",
    "## Improves on matplotlib's confusing naming convention  e.g for titles"
   ]
  },
  {
   "cell_type": "code",
   "execution_count": null,
   "metadata": {
    "slideshow": {
     "slide_type": "slide"
    }
   },
   "outputs": [],
   "source": [
    "# importing the necessary dependencies for seabon\n",
    "\n",
    "import seaborn as sns\n",
    "\n",
    "\n",
    "\n"
   ]
  },
  {
   "cell_type": "code",
   "execution_count": null,
   "metadata": {
    "slideshow": {
     "slide_type": "slide"
    }
   },
   "outputs": [],
   "source": [
    "#loading data\n",
    "\n",
    "Data =sns.load_dataset ('flights')"
   ]
  },
  {
   "cell_type": "code",
   "execution_count": null,
   "metadata": {
    "slideshow": {
     "slide_type": "slide"
    }
   },
   "outputs": [],
   "source": [
    "#check for  available seabon datasets\n",
    "\n",
    "sns.get_dataset_names()"
   ]
  },
  {
   "cell_type": "code",
   "execution_count": null,
   "metadata": {
    "slideshow": {
     "slide_type": "slide"
    }
   },
   "outputs": [],
   "source": [
    "# Create A two dimensional plot with passengers vs. month\n",
    "\n",
    "sns.relplot(x='passengers', y ='month', data =Data)"
   ]
  },
  {
   "cell_type": "code",
   "execution_count": null,
   "metadata": {
    "slideshow": {
     "slide_type": "slide"
    }
   },
   "outputs": [],
   "source": [
    "\n",
    "# add the third dimension\n",
    "\n",
    "\n",
    "sns.relplot(x='passengers', y ='month', hue= 'year', data =Data)\n",
    "\n",
    "\n"
   ]
  },
  {
   "cell_type": "code",
   "execution_count": null,
   "metadata": {
    "slideshow": {
     "slide_type": "slide"
    }
   },
   "outputs": [],
   "source": [
    "# Create a line plot with seabon\n",
    "\n",
    "DataL_plot= sns.load_dataset (\"tips\")\n",
    "\n",
    "sns.relplot(x=\"time\", y =\"tip\", data=DataL_plot, kind=\"line\")"
   ]
  },
  {
   "cell_type": "code",
   "execution_count": null,
   "metadata": {
    "scrolled": true,
    "slideshow": {
     "slide_type": "slide"
    }
   },
   "outputs": [],
   "source": [
    "# Create a catplot as a default of line plot with seaborn. Using thesame command and adding kind changes the plot\n",
    "\n",
    "sns.catplot(x=\"day\", y =\"total_bill\", data =DataL_plot)\n"
   ]
  },
  {
   "cell_type": "code",
   "execution_count": null,
   "metadata": {
    "slideshow": {
     "slide_type": "slide"
    }
   },
   "outputs": [],
   "source": [
    "\n",
    "#From the default, the change of kind=viol \n",
    "\n",
    "sns.catplot(x=\"day\", y =\"total_bill\", kind=\"violin\", data =DataL_plot) # using violin as kind\n"
   ]
  },
  {
   "cell_type": "code",
   "execution_count": null,
   "metadata": {
    "slideshow": {
     "slide_type": "slide"
    }
   },
   "outputs": [],
   "source": [
    "#From the default, the change of kind=boxen\n",
    "\n",
    "sns.catplot(x=\"day\", y =\"total_bill\", kind=\"boxen\", data =DataL_plot)"
   ]
  },
  {
   "cell_type": "code",
   "execution_count": null,
   "metadata": {
    "slideshow": {
     "slide_type": "slide"
    }
   },
   "outputs": [],
   "source": [
    "# Multiple plot with Seaborn\n",
    "\n",
    "import matplotlib.pyplot as plt\n",
    "\n",
    "# load iris data\n",
    "a = sns.load_dataset(\"iris\")\n",
    "b = sns.FacetGrid(a, col=\"species\")\n",
    "b.map(plt.hist, \"sepal_length\")"
   ]
  },
  {
   "cell_type": "code",
   "execution_count": null,
   "metadata": {
    "slideshow": {
     "slide_type": "slide"
    }
   },
   "outputs": [],
   "source": [
    "\n",
    "# Seaborn astheticts: white background\n",
    "\n",
    "a=sns.load_dataset (\"flights\") # flights data sets are available on github\n",
    "b =sns.PairGrid (a)\n",
    "b.map(plt.scatter)\n"
   ]
  },
  {
   "cell_type": "code",
   "execution_count": null,
   "metadata": {
    "slideshow": {
     "slide_type": "slide"
    }
   },
   "outputs": [],
   "source": [
    "\n",
    "# Seabon astheticts: darkgrid background\n",
    "\n",
    "sns.set (style=\"darkgrid\")\n",
    "a=sns.load_dataset (\"flights\")\n",
    "b =sns.PairGrid (a)\n",
    "b.map(plt.scatter)"
   ]
  },
  {
   "cell_type": "code",
   "execution_count": null,
   "metadata": {
    "slideshow": {
     "slide_type": "slide"
    }
   },
   "outputs": [],
   "source": [
    "# Make a box plot with seaborn and set white background\n",
    "\n",
    "sns.set (style=\"white\", color_codes=True) #set white background\n",
    "DataL_plot= sns.load_dataset (\"tips\")\n",
    "sns.boxplot(x=\"day\", y =\"total_bill\", data=DataL_plot)"
   ]
  }
 ],
 "metadata": {
  "celltoolbar": "Slideshow",
  "kernelspec": {
   "display_name": "Python 3",
   "language": "python",
   "name": "python3"
  },
  "language_info": {
   "codemirror_mode": {
    "name": "ipython",
    "version": 3
   },
   "file_extension": ".py",
   "mimetype": "text/x-python",
   "name": "python",
   "nbconvert_exporter": "python",
   "pygments_lexer": "ipython3",
   "version": "3.7.6"
  }
 },
 "nbformat": 4,
 "nbformat_minor": 4
}
