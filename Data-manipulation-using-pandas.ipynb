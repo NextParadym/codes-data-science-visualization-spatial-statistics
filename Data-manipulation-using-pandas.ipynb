{
 "cells": [
  {
   "cell_type": "markdown",
   "metadata": {
    "slideshow": {
     "slide_type": "slide"
    }
   },
   "source": [
    "\n",
    "## - Data manipulation using Pandas\n",
    "\n",
    "\n"
   ]
  },
  {
   "cell_type": "markdown",
   "metadata": {
    "slideshow": {
     "slide_type": "slide"
    }
   },
   "source": []
  },
  {
   "cell_type": "code",
   "execution_count": null,
   "metadata": {},
   "outputs": [],
   "source": [
    "pip install RISE"
   ]
  },
  {
   "cell_type": "code",
   "execution_count": null,
   "metadata": {},
   "outputs": [],
   "source": [
    "## Data Manipulation-using-pandas"
   ]
  },
  {
   "cell_type": "markdown",
   "metadata": {
    "slideshow": {
     "slide_type": "slide"
    }
   },
   "source": [
    "\n",
    "## Data-manipulation-using-pandas'\n",
    "\n",
    "-The Pandas library offers data structure and methods to manipulate \n",
    "different types of data-numerical , temporal, and easy\n",
    "-It is optimized for performance.E.g formats CVS, JSON\n"
   ]
  },
  {
   "cell_type": "code",
   "execution_count": null,
   "metadata": {
    "slideshow": {
     "slide_type": "slide"
    }
   },
   "outputs": [],
   "source": [
    "\n",
    "# importing the necessary dependencies for Pandas\n",
    "\n",
    "import pandas as pd\n",
    "import numpy as np\n",
    "import matplotlib.pyplot as plt\n",
    "%matplotlib inline \n",
    "\n",
    "\n",
    "\n",
    "\n",
    "\n"
   ]
  },
  {
   "cell_type": "code",
   "execution_count": null,
   "metadata": {
    "slideshow": {
     "slide_type": "slide"
    }
   },
   "outputs": [],
   "source": [
    "# load the dataset\n",
    "\n",
    "world_pop=pd.read_csv(\"/Users/lawrence/world_population.csv\",index_col=0)\n"
   ]
  },
  {
   "cell_type": "code",
   "execution_count": null,
   "metadata": {
    "slideshow": {
     "slide_type": "slide"
    }
   },
   "outputs": [],
   "source": [
    "#checking the data\n",
    "\n",
    "world_pop.head()\n"
   ]
  },
  {
   "cell_type": "code",
   "execution_count": null,
   "metadata": {
    "slideshow": {
     "slide_type": "slide"
    }
   },
   "outputs": [],
   "source": [
    "# printing the shape of the data\n",
    "\n",
    "world_pop.shape\n",
    "\n",
    "\n"
   ]
  },
  {
   "cell_type": "code",
   "execution_count": null,
   "metadata": {},
   "outputs": [],
   "source": [
    "# printing the description of the data\n",
    "\n",
    "world_pop.describe"
   ]
  },
  {
   "cell_type": "code",
   "execution_count": null,
   "metadata": {
    "slideshow": {
     "slide_type": "slide"
    }
   },
   "outputs": [],
   "source": [
    "#Calculating the mean for 1961\n",
    "\n",
    "world_pop [\"1961\"].mean()"
   ]
  },
  {
   "cell_type": "code",
   "execution_count": null,
   "metadata": {
    "slideshow": {
     "slide_type": "slide"
    }
   },
   "outputs": [],
   "source": [
    "#Calculating the mean for 2015\n",
    "\n",
    "world_pop[\"2015\"].mean()"
   ]
  },
  {
   "cell_type": "code",
   "execution_count": null,
   "metadata": {
    "slideshow": {
     "slide_type": "slide"
    }
   },
   "outputs": [],
   "source": [
    "# filtering columns 1961, 2000, and 2015\n",
    "\n",
    "world_pop.filter(items=[\"1961\", \"2000\", \"2015\"]).head()"
   ]
  },
  {
   "cell_type": "markdown",
   "metadata": {
    "slideshow": {
     "slide_type": "slide"
    }
   },
   "source": [
    "# indexing-locating a  set of data of interest\n",
    "\n",
    "## world_pop[\"2000\"] #index column 2000\n",
    "## world_pop.iloc[-1] #index the last row\n",
    "## world_pop.loc[\"Germany\"] #indexing the row with index Germany\n",
    "## world_pop[[\"2000\"]].loc[[\"Germany\"]] #indexing the row with index Germany"
   ]
  },
  {
   "cell_type": "markdown",
   "metadata": {
    "slideshow": {
     "slide_type": "slide"
    }
   },
   "source": [
    "# Slicing-separate data into a more meaningful form for a specific analysis\n",
    "\n",
    "## world_pop.iloc[0:10]- slice of the first 10 rows\n",
    "## world_pop.loc[[\"Germany\", \"India\"]] # slice the rows of Germany and India\n",
    "## world_pop.loc[[\"Germany\", \"India\"]] [[\"1970\", \"I990\"]] # sub-set of Germany and India and 1979 and 1990\n",
    "\n"
   ]
  },
  {
   "cell_type": "markdown",
   "metadata": {
    "slideshow": {
     "slide_type": "slide"
    }
   },
   "source": [
    "# Data Visualization with Matplotlib  \n",
    "## A powerful library for visualizing data sets in python used as Matplotlib.pyplot\n",
    "\n",
    "## Matplotlib.pyplot is a collection of command style functions that make matplotlib work  like MATLAB.\n",
    "\n",
    "\n"
   ]
  },
  {
   "cell_type": "markdown",
   "metadata": {
    "slideshow": {
     "slide_type": "slide"
    }
   },
   "source": [
    "## Matplotlib example: Let's Visualise a Filtered Data Set ' world_pop' with a Bar Chart"
   ]
  },
  {
   "cell_type": "code",
   "execution_count": null,
   "metadata": {
    "slideshow": {
     "slide_type": "slide"
    }
   },
   "outputs": [],
   "source": [
    "\n",
    "\n",
    "# filterered columns 1961, 2000, and 2015 for 10 countries\n",
    "\n",
    "df=world_pop.filter(items=[\"1961\", \"2000\", \"2015\"]).head(10)\n",
    "df"
   ]
  },
  {
   "cell_type": "code",
   "execution_count": null,
   "metadata": {
    "slideshow": {
     "slide_type": "slide"
    }
   },
   "outputs": [],
   "source": [
    "\n",
    "df.plot.bar()\n",
    "plt.title ('Population of Selected 10 Countries for 1961, 2000, and 2015')\n",
    "plt.xlabel('Selected Conuntries', fontsize=11) \n",
    "plt.ylabel(\"'Population ('0000')\", fontsize=11) \n",
    "plt.rc('xtick', labelsize=12) \n",
    "plt.legend(loc='upper center')\n",
    "plt.show()\n",
    "#fig.savefig('test.jpg')\n"
   ]
  }
 ],
 "metadata": {
  "celltoolbar": "Slideshow",
  "kernelspec": {
   "display_name": "Python 3",
   "language": "python",
   "name": "python3"
  },
  "language_info": {
   "codemirror_mode": {
    "name": "ipython",
    "version": 3
   },
   "file_extension": ".py",
   "mimetype": "text/x-python",
   "name": "python",
   "nbconvert_exporter": "python",
   "pygments_lexer": "ipython3",
   "version": "3.7.6"
  }
 },
 "nbformat": 4,
 "nbformat_minor": 4
}
